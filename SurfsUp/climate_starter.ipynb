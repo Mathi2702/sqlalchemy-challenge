{
 "cells": [
  {
   "cell_type": "code",
   "execution_count": 1,
   "metadata": {},
   "outputs": [],
   "source": [
    "%matplotlib inline\n",
    "from matplotlib import style\n",
    "style.use('fivethirtyeight')\n",
    "import matplotlib.pyplot as plt"
   ]
  },
  {
   "cell_type": "code",
   "execution_count": 2,
   "metadata": {},
   "outputs": [],
   "source": [
    "import numpy as np\n",
    "import pandas as pd\n",
    "import datetime as dt\n",
    "from pprint import pprint"
   ]
  },
  {
   "cell_type": "markdown",
   "metadata": {},
   "source": [
    "# Reflect Tables into SQLAlchemy ORM"
   ]
  },
  {
   "cell_type": "code",
   "execution_count": 3,
   "metadata": {},
   "outputs": [],
   "source": [
    "# Python SQL toolkit and Object Relational Mapper\n",
    "import sqlalchemy\n",
    "from sqlalchemy.ext.automap import automap_base\n",
    "from sqlalchemy.orm import Session\n",
    "from sqlalchemy import create_engine, func , inspect"
   ]
  },
  {
   "cell_type": "code",
   "execution_count": 4,
   "metadata": {},
   "outputs": [],
   "source": [
    "# create engine to hawaii.sqlite\n",
    "engine = create_engine(\"sqlite:///Resources/hawaii.sqlite\")"
   ]
  },
  {
   "cell_type": "code",
   "execution_count": 5,
   "metadata": {},
   "outputs": [],
   "source": [
    "# reflect an existing database into a new model\n",
    "Base = automap_base()\n",
    "# reflect the tables\n",
    "Base.prepare(engine, reflect=True)"
   ]
  },
  {
   "cell_type": "code",
   "execution_count": 6,
   "metadata": {},
   "outputs": [
    {
     "data": {
      "text/plain": [
       "['measurement', 'station']"
      ]
     },
     "execution_count": 6,
     "metadata": {},
     "output_type": "execute_result"
    }
   ],
   "source": [
    "# View all of the classes that automap found\n",
    "Base.classes.keys()"
   ]
  },
  {
   "cell_type": "code",
   "execution_count": 7,
   "metadata": {},
   "outputs": [],
   "source": [
    "# Save references to each table\n",
    "measurement = Base.classes.measurement\n",
    "station = Base.classes.station"
   ]
  },
  {
   "cell_type": "code",
   "execution_count": 8,
   "metadata": {},
   "outputs": [],
   "source": [
    "# Create our session (link) from Python to the DB\n",
    "session = Session(engine)"
   ]
  },
  {
   "cell_type": "code",
   "execution_count": 9,
   "metadata": {},
   "outputs": [
    {
     "data": {
      "text/plain": [
       "['measurement', 'station']"
      ]
     },
     "execution_count": 9,
     "metadata": {},
     "output_type": "execute_result"
    }
   ],
   "source": [
    "inspector = inspect(engine)\n",
    "inspector.get_table_names()"
   ]
  },
  {
   "cell_type": "code",
   "execution_count": 10,
   "metadata": {},
   "outputs": [
    {
     "name": "stdout",
     "output_type": "stream",
     "text": [
      "id INTEGER\n",
      "station TEXT\n",
      "date TEXT\n",
      "prcp FLOAT\n",
      "tobs FLOAT\n"
     ]
    }
   ],
   "source": [
    "# Get a list of column names and types\n",
    "columns = inspector.get_columns('measurement')\n",
    "for c in columns:\n",
    "    print(c['name'], c[\"type\"])\n",
    "# columns"
   ]
  },
  {
   "cell_type": "code",
   "execution_count": 11,
   "metadata": {},
   "outputs": [
    {
     "name": "stdout",
     "output_type": "stream",
     "text": [
      "id INTEGER\n",
      "station TEXT\n",
      "name TEXT\n",
      "latitude FLOAT\n",
      "longitude FLOAT\n",
      "elevation FLOAT\n"
     ]
    }
   ],
   "source": [
    "# Get a list of column names and types\n",
    "columns = inspector.get_columns('station')\n",
    "for c in columns:\n",
    "    print(c['name'], c[\"type\"])\n",
    "# columns"
   ]
  },
  {
   "cell_type": "code",
   "execution_count": null,
   "metadata": {},
   "outputs": [],
   "source": []
  },
  {
   "cell_type": "markdown",
   "metadata": {},
   "source": [
    "# Exploratory Precipitation Analysis"
   ]
  },
  {
   "cell_type": "code",
   "execution_count": 12,
   "metadata": {},
   "outputs": [
    {
     "name": "stdout",
     "output_type": "stream",
     "text": [
      "2017-08-23\n"
     ]
    }
   ],
   "source": [
    "# Find the most recent date in the data set.\n",
    "max_date = session.query(func.max(measurement.date)).first()[0]\n",
    "print(max_date)"
   ]
  },
  {
   "cell_type": "code",
   "execution_count": 13,
   "metadata": {},
   "outputs": [
    {
     "name": "stdout",
     "output_type": "stream",
     "text": [
      "2010-01-01\n"
     ]
    }
   ],
   "source": [
    "min_date = session.query(func.min(measurement.date)).first()[0]\n",
    "print(min_date)"
   ]
  },
  {
   "cell_type": "code",
   "execution_count": 26,
   "metadata": {},
   "outputs": [
    {
     "name": "stdout",
     "output_type": "stream",
     "text": [
      "            Precipitation\n",
      "Date                     \n",
      "2016-08-24           0.08\n",
      "2016-08-24           2.15\n",
      "2016-08-24           2.28\n",
      "2016-08-24            NaN\n",
      "2016-08-24           1.22\n",
      "...                   ...\n",
      "2017-08-21            NaN\n",
      "2017-08-21           0.56\n",
      "2017-08-22           0.00\n",
      "2017-08-22           0.00\n",
      "2017-08-22           0.50\n",
      "\n",
      "[2219 rows x 1 columns]\n"
     ]
    }
   ],
   "source": [
    "# Design a query to retrieve the last 12 months of precipitation data and plot the results. \n",
    "# Starting from the most recent data point in the database. \n",
    "# Calculate the date one year from the last date in data set.\n",
    "query_date = dt.date(2017, 8, 23) - dt.timedelta(days=365)\n",
    "#print(\"Query Date: \", query_date)\n",
    "one_year_perc = session.query(measurement.date, measurement.prcp).filter(measurement.date<\"2017-08-23\")\\\n",
    ".filter(measurement.date>\"2016-08-23\").order_by(measurement.date).all()\n",
    "#pprint(one_year_perc)\n",
    "# Save the query results as a Pandas DataFrame and set the index to the date column\n",
    "prec_df = pd.DataFrame(one_year_perc, columns = [\"Date\", \"Precipitation\"])\n",
    "prec_df.set_index(\"Date\", inplace = True)\n",
    "\n",
    "prec_df\n",
    "# Sort the dataframe by date\n",
    "sort_prec_df=prec_df.sort_values(\"Date\",  ascending=True)\n",
    "pprint(sort_prec_df)\n"
   ]
  },
  {
   "cell_type": "code",
   "execution_count": 27,
   "metadata": {},
   "outputs": [
    {
     "name": "stdout",
     "output_type": "stream",
     "text": [
      "            Precipitation\n",
      "Date                     \n",
      "2016-08-24           0.08\n",
      "2016-08-24           2.15\n",
      "2016-08-24           2.28\n",
      "2016-08-24            NaN\n",
      "2016-08-24           1.22\n",
      "...                   ...\n",
      "2017-08-21            NaN\n",
      "2017-08-21           0.56\n",
      "2017-08-22           0.00\n",
      "2017-08-22           0.00\n",
      "2017-08-22           0.50\n",
      "\n",
      "[2219 rows x 1 columns]\n"
     ]
    }
   ],
   "source": [
    "# Design a query to retrieve the last 12 months of precipitation data and plot the results. \n",
    "# Starting from the most recent data point in the database. \n",
    "# Calculate the date one year from the last date in data set.\n",
    "\n",
    "startdt=session.query(measurement.date).order_by(measurement.date.desc()).first()[0]\n",
    "query_startdate=dt.datetime.strptime(startdt,\"%Y-%m-%d\").date()\n",
    "query_enddate=query_startdate-dt.timedelta(days=365)\n",
    "\n",
    "# Perform a query to retrieve the data and precipitation scores\n",
    "\n",
    "one_year_perc = session.query(measurement.date, measurement.prcp).filter(measurement.date<query_startdate)\\\n",
    ".filter(measurement.date>query_enddate).order_by(measurement.date).all()\n",
    "#pprint(one_year_perc)\n",
    "# Save the query results as a Pandas DataFrame and set the index to the date column\n",
    "prec_df = pd.DataFrame(one_year_perc, columns = [\"Date\", \"Precipitation\"])\n",
    "prec_df.set_index(\"Date\", inplace = True)\n",
    "\n",
    "prec_df\n",
    "# Sort the dataframe by date\n",
    "sort_prec_df=prec_df.sort_values(\"Date\")\n",
    "pprint(sort_prec_df)\n"
   ]
  },
  {
   "cell_type": "code",
   "execution_count": 16,
   "metadata": {},
   "outputs": [
    {
     "data": {
      "image/png": "[encoded data removed]",
      "text/plain": [
       "<Figure size 432x288 with 1 Axes>"
      ]
     },
     "metadata": {},
     "output_type": "display_data"
    }
   ],
   "source": [
    "\n",
    "\n",
    "# Use Pandas Plotting with Matplotlip to plot the data\n",
    "sort_prec_df.plot(y=\"Precipitation\", use_index=True, rot=90)\n",
    "plt.xlabel(\"Date\")\n",
    "plt.ylabel(\"Precipitation\")\n",
    "plt.title(\"Daily Precipitation Over 12 months\")\n",
    "\n",
    "\n",
    "\n",
    "plt.savefig(\"precipitation.png\")\n",
    "plt.show()\n"
   ]
  },
  {
   "cell_type": "code",
   "execution_count": 17,
   "metadata": {},
   "outputs": [
    {
     "data": {
      "text/html": [
       "<div>\n",
       "<style scoped>\n",
       "    .dataframe tbody tr th:only-of-type {\n",
       "        vertical-align: middle;\n",
       "    }\n",
       "\n",
       "    .dataframe tbody tr th {\n",
       "        vertical-align: top;\n",
       "    }\n",
       "\n",
       "    .dataframe thead th {\n",
       "        text-align: right;\n",
       "    }\n",
       "</style>\n",
       "<table border=\"1\" class=\"dataframe\">\n",
       "  <thead>\n",
       "    <tr style=\"text-align: right;\">\n",
       "      <th></th>\n",
       "      <th>Precipitation</th>\n",
       "    </tr>\n",
       "  </thead>\n",
       "  <tbody>\n",
       "    <tr>\n",
       "      <th>count</th>\n",
       "      <td>2011.000000</td>\n",
       "    </tr>\n",
       "    <tr>\n",
       "      <th>mean</th>\n",
       "      <td>0.176549</td>\n",
       "    </tr>\n",
       "    <tr>\n",
       "      <th>std</th>\n",
       "      <td>0.460667</td>\n",
       "    </tr>\n",
       "    <tr>\n",
       "      <th>min</th>\n",
       "      <td>0.000000</td>\n",
       "    </tr>\n",
       "    <tr>\n",
       "      <th>25%</th>\n",
       "      <td>0.000000</td>\n",
       "    </tr>\n",
       "    <tr>\n",
       "      <th>50%</th>\n",
       "      <td>0.020000</td>\n",
       "    </tr>\n",
       "    <tr>\n",
       "      <th>75%</th>\n",
       "      <td>0.130000</td>\n",
       "    </tr>\n",
       "    <tr>\n",
       "      <th>max</th>\n",
       "      <td>6.700000</td>\n",
       "    </tr>\n",
       "  </tbody>\n",
       "</table>\n",
       "</div>"
      ],
      "text/plain": [
       "       Precipitation\n",
       "count    2011.000000\n",
       "mean        0.176549\n",
       "std         0.460667\n",
       "min         0.000000\n",
       "25%         0.000000\n",
       "50%         0.020000\n",
       "75%         0.130000\n",
       "max         6.700000"
      ]
     },
     "execution_count": 17,
     "metadata": {},
     "output_type": "execute_result"
    }
   ],
   "source": [
    "# Use Pandas to calcualte the summary statistics for the precipitation data\n",
    "sort_prec_df.describe()"
   ]
  },
  {
   "cell_type": "markdown",
   "metadata": {},
   "source": [
    "# Exploratory Station Analysis"
   ]
  },
  {
   "cell_type": "code",
   "execution_count": 18,
   "metadata": {},
   "outputs": [
    {
     "data": {
      "text/plain": [
       "9"
      ]
     },
     "execution_count": 18,
     "metadata": {},
     "output_type": "execute_result"
    }
   ],
   "source": [
    "# Design a query to calculate the total number stations in the dataset\n",
    "stations_count = session.query(func.count(func.distinct(station.station))).first()[0]\n",
    "stations_count"
   ]
  },
  {
   "cell_type": "code",
   "execution_count": 19,
   "metadata": {},
   "outputs": [
    {
     "data": {
      "text/plain": [
       "[('USC00519281', 2772),\n",
       " ('USC00519397', 2724),\n",
       " ('USC00513117', 2709),\n",
       " ('USC00519523', 2669),\n",
       " ('USC00516128', 2612),\n",
       " ('USC00514830', 2202),\n",
       " ('USC00511918', 1979),\n",
       " ('USC00517948', 1372),\n",
       " ('USC00518838', 511)]"
      ]
     },
     "execution_count": 19,
     "metadata": {},
     "output_type": "execute_result"
    }
   ],
   "source": [
    "# Design a query to find the most active stations (i.e. what stations have the most rows?)\n",
    "# List the stations and the counts in descending order.\n",
    "station_active = session.query(measurement.station, func.count(measurement.id)).\\\n",
    "    group_by(measurement.station).\\\n",
    "    order_by(func.count(measurement.id).desc()).all()\n",
    "station_active\n"
   ]
  },
  {
   "cell_type": "code",
   "execution_count": 20,
   "metadata": {},
   "outputs": [
    {
     "data": {
      "text/plain": [
       "'USC00519281'"
      ]
     },
     "execution_count": 20,
     "metadata": {},
     "output_type": "execute_result"
    }
   ],
   "source": [
    "station_active = session.query(measurement.station, func.count(measurement.id)).\\\n",
    "    group_by(measurement.station).\\\n",
    "    order_by(func.count(measurement.id).desc()).first()[0]\n",
    "station_active"
   ]
  },
  {
   "cell_type": "code",
   "execution_count": 21,
   "metadata": {},
   "outputs": [
    {
     "data": {
      "text/plain": [
       "[('USC00519281', 54.0, 85.0, 71.66378066378067)]"
      ]
     },
     "execution_count": 21,
     "metadata": {},
     "output_type": "execute_result"
    }
   ],
   "source": [
    "# Using the most active station id from the previous query, calculate the lowest, highest, and average temperature.\n",
    "#USC00519281 station is choosen to be the most active station from previous query\n",
    "cal_temp_station=session.query(measurement.station,func.min(measurement.tobs), func.max(measurement.tobs),func.avg(measurement.tobs)).\\\n",
    "                 filter(measurement.station==station_active).all()\n",
    "cal_temp_station"
   ]
  },
  {
   "cell_type": "code",
   "execution_count": 22,
   "metadata": {},
   "outputs": [
    {
     "data": {
      "text/plain": [
       "[('USC00519281', 77.0),\n",
       " ('USC00519281', 80.0),\n",
       " ('USC00519281', 80.0),\n",
       " ('USC00519281', 75.0),\n",
       " ('USC00519281', 73.0),\n",
       " ('USC00519281', 78.0),\n",
       " ('USC00519281', 77.0),\n",
       " ('USC00519281', 78.0),\n",
       " ('USC00519281', 80.0),\n",
       " ('USC00519281', 80.0),\n",
       " ('USC00519281', 78.0),\n",
       " ('USC00519281', 78.0),\n",
       " ('USC00519281', 78.0),\n",
       " ('USC00519281', 73.0),\n",
       " ('USC00519281', 74.0),\n",
       " ('USC00519281', 80.0),\n",
       " ('USC00519281', 79.0),\n",
       " ('USC00519281', 77.0),\n",
       " ('USC00519281', 80.0),\n",
       " ('USC00519281', 76.0),\n",
       " ('USC00519281', 79.0),\n",
       " ('USC00519281', 75.0),\n",
       " ('USC00519281', 79.0),\n",
       " ('USC00519281', 78.0),\n",
       " ('USC00519281', 79.0),\n",
       " ('USC00519281', 78.0),\n",
       " ('USC00519281', 78.0),\n",
       " ('USC00519281', 76.0),\n",
       " ('USC00519281', 74.0),\n",
       " ('USC00519281', 77.0),\n",
       " ('USC00519281', 78.0),\n",
       " ('USC00519281', 79.0),\n",
       " ('USC00519281', 79.0),\n",
       " ('USC00519281', 77.0),\n",
       " ('USC00519281', 80.0),\n",
       " ('USC00519281', 78.0),\n",
       " ('USC00519281', 78.0),\n",
       " ('USC00519281', 78.0),\n",
       " ('USC00519281', 77.0),\n",
       " ('USC00519281', 79.0),\n",
       " ('USC00519281', 79.0),\n",
       " ('USC00519281', 79.0),\n",
       " ('USC00519281', 79.0),\n",
       " ('USC00519281', 75.0),\n",
       " ('USC00519281', 76.0),\n",
       " ('USC00519281', 73.0),\n",
       " ('USC00519281', 72.0),\n",
       " ('USC00519281', 71.0),\n",
       " ('USC00519281', 77.0),\n",
       " ('USC00519281', 79.0),\n",
       " ('USC00519281', 78.0),\n",
       " ('USC00519281', 79.0),\n",
       " ('USC00519281', 77.0),\n",
       " ('USC00519281', 79.0),\n",
       " ('USC00519281', 77.0),\n",
       " ('USC00519281', 78.0),\n",
       " ('USC00519281', 78.0),\n",
       " ('USC00519281', 78.0),\n",
       " ('USC00519281', 78.0),\n",
       " ('USC00519281', 77.0),\n",
       " ('USC00519281', 74.0),\n",
       " ('USC00519281', 75.0),\n",
       " ('USC00519281', 76.0),\n",
       " ('USC00519281', 73.0),\n",
       " ('USC00519281', 76.0),\n",
       " ('USC00519281', 74.0),\n",
       " ('USC00519281', 77.0),\n",
       " ('USC00519281', 76.0),\n",
       " ('USC00519281', 76.0),\n",
       " ('USC00519281', 74.0),\n",
       " ('USC00519281', 75.0),\n",
       " ('USC00519281', 75.0),\n",
       " ('USC00519281', 75.0),\n",
       " ('USC00519281', 75.0),\n",
       " ('USC00519281', 71.0),\n",
       " ('USC00519281', 63.0),\n",
       " ('USC00519281', 70.0),\n",
       " ('USC00519281', 68.0),\n",
       " ('USC00519281', 67.0),\n",
       " ('USC00519281', 77.0),\n",
       " ('USC00519281', 74.0),\n",
       " ('USC00519281', 77.0),\n",
       " ('USC00519281', 76.0),\n",
       " ('USC00519281', 76.0),\n",
       " ('USC00519281', 75.0),\n",
       " ('USC00519281', 76.0),\n",
       " ('USC00519281', 75.0),\n",
       " ('USC00519281', 73.0),\n",
       " ('USC00519281', 75.0),\n",
       " ('USC00519281', 73.0),\n",
       " ('USC00519281', 75.0),\n",
       " ('USC00519281', 74.0),\n",
       " ('USC00519281', 75.0),\n",
       " ('USC00519281', 74.0),\n",
       " ('USC00519281', 75.0),\n",
       " ('USC00519281', 73.0),\n",
       " ('USC00519281', 75.0),\n",
       " ('USC00519281', 73.0),\n",
       " ('USC00519281', 73.0),\n",
       " ('USC00519281', 74.0),\n",
       " ('USC00519281', 70.0),\n",
       " ('USC00519281', 72.0),\n",
       " ('USC00519281', 70.0),\n",
       " ('USC00519281', 67.0),\n",
       " ('USC00519281', 67.0),\n",
       " ('USC00519281', 69.0),\n",
       " ('USC00519281', 70.0),\n",
       " ('USC00519281', 68.0),\n",
       " ('USC00519281', 69.0),\n",
       " ('USC00519281', 69.0),\n",
       " ('USC00519281', 66.0),\n",
       " ('USC00519281', 65.0),\n",
       " ('USC00519281', 68.0),\n",
       " ('USC00519281', 62.0),\n",
       " ('USC00519281', 75.0),\n",
       " ('USC00519281', 70.0),\n",
       " ('USC00519281', 69.0),\n",
       " ('USC00519281', 76.0),\n",
       " ('USC00519281', 76.0),\n",
       " ('USC00519281', 74.0),\n",
       " ('USC00519281', 73.0),\n",
       " ('USC00519281', 71.0),\n",
       " ('USC00519281', 74.0),\n",
       " ('USC00519281', 74.0),\n",
       " ('USC00519281', 72.0),\n",
       " ('USC00519281', 71.0),\n",
       " ('USC00519281', 72.0),\n",
       " ('USC00519281', 74.0),\n",
       " ('USC00519281', 69.0),\n",
       " ('USC00519281', 67.0),\n",
       " ('USC00519281', 72.0),\n",
       " ('USC00519281', 70.0),\n",
       " ('USC00519281', 64.0),\n",
       " ('USC00519281', 63.0),\n",
       " ('USC00519281', 63.0),\n",
       " ('USC00519281', 62.0),\n",
       " ('USC00519281', 70.0),\n",
       " ('USC00519281', 70.0),\n",
       " ('USC00519281', 62.0),\n",
       " ('USC00519281', 62.0),\n",
       " ('USC00519281', 63.0),\n",
       " ('USC00519281', 65.0),\n",
       " ('USC00519281', 69.0),\n",
       " ('USC00519281', 77.0),\n",
       " ('USC00519281', 70.0),\n",
       " ('USC00519281', 74.0),\n",
       " ('USC00519281', 69.0),\n",
       " ('USC00519281', 72.0),\n",
       " ('USC00519281', 71.0),\n",
       " ('USC00519281', 69.0),\n",
       " ('USC00519281', 71.0),\n",
       " ('USC00519281', 71.0),\n",
       " ('USC00519281', 72.0),\n",
       " ('USC00519281', 72.0),\n",
       " ('USC00519281', 69.0),\n",
       " ('USC00519281', 70.0),\n",
       " ('USC00519281', 66.0),\n",
       " ('USC00519281', 65.0),\n",
       " ('USC00519281', 69.0),\n",
       " ('USC00519281', 68.0),\n",
       " ('USC00519281', 68.0),\n",
       " ('USC00519281', 68.0),\n",
       " ('USC00519281', 59.0),\n",
       " ('USC00519281', 60.0),\n",
       " ('USC00519281', 70.0),\n",
       " ('USC00519281', 73.0),\n",
       " ('USC00519281', 75.0),\n",
       " ('USC00519281', 64.0),\n",
       " ('USC00519281', 59.0),\n",
       " ('USC00519281', 59.0),\n",
       " ('USC00519281', 62.0),\n",
       " ('USC00519281', 68.0),\n",
       " ('USC00519281', 70.0),\n",
       " ('USC00519281', 73.0),\n",
       " ('USC00519281', 79.0),\n",
       " ('USC00519281', 75.0),\n",
       " ('USC00519281', 65.0),\n",
       " ('USC00519281', 70.0),\n",
       " ('USC00519281', 74.0),\n",
       " ('USC00519281', 70.0),\n",
       " ('USC00519281', 70.0),\n",
       " ('USC00519281', 71.0),\n",
       " ('USC00519281', 71.0),\n",
       " ('USC00519281', 71.0),\n",
       " ('USC00519281', 69.0),\n",
       " ('USC00519281', 61.0),\n",
       " ('USC00519281', 67.0),\n",
       " ('USC00519281', 65.0),\n",
       " ('USC00519281', 72.0),\n",
       " ('USC00519281', 71.0),\n",
       " ('USC00519281', 73.0),\n",
       " ('USC00519281', 72.0),\n",
       " ('USC00519281', 77.0),\n",
       " ('USC00519281', 73.0),\n",
       " ('USC00519281', 67.0),\n",
       " ('USC00519281', 62.0),\n",
       " ('USC00519281', 64.0),\n",
       " ('USC00519281', 67.0),\n",
       " ('USC00519281', 66.0),\n",
       " ('USC00519281', 81.0),\n",
       " ('USC00519281', 69.0),\n",
       " ('USC00519281', 66.0),\n",
       " ('USC00519281', 67.0),\n",
       " ('USC00519281', 69.0),\n",
       " ('USC00519281', 66.0),\n",
       " ('USC00519281', 68.0),\n",
       " ('USC00519281', 65.0),\n",
       " ('USC00519281', 74.0),\n",
       " ('USC00519281', 69.0),\n",
       " ('USC00519281', 72.0),\n",
       " ('USC00519281', 73.0),\n",
       " ('USC00519281', 72.0),\n",
       " ('USC00519281', 71.0),\n",
       " ('USC00519281', 76.0),\n",
       " ('USC00519281', 77.0),\n",
       " ('USC00519281', 76.0),\n",
       " ('USC00519281', 74.0),\n",
       " ('USC00519281', 68.0),\n",
       " ('USC00519281', 73.0),\n",
       " ('USC00519281', 71.0),\n",
       " ('USC00519281', 74.0),\n",
       " ('USC00519281', 75.0),\n",
       " ('USC00519281', 70.0),\n",
       " ('USC00519281', 67.0),\n",
       " ('USC00519281', 71.0),\n",
       " ('USC00519281', 67.0),\n",
       " ('USC00519281', 74.0),\n",
       " ('USC00519281', 77.0),\n",
       " ('USC00519281', 78.0),\n",
       " ('USC00519281', 67.0),\n",
       " ('USC00519281', 70.0),\n",
       " ('USC00519281', 69.0),\n",
       " ('USC00519281', 69.0),\n",
       " ('USC00519281', 74.0),\n",
       " ('USC00519281', 78.0),\n",
       " ('USC00519281', 71.0),\n",
       " ('USC00519281', 67.0),\n",
       " ('USC00519281', 68.0),\n",
       " ('USC00519281', 67.0),\n",
       " ('USC00519281', 76.0),\n",
       " ('USC00519281', 69.0),\n",
       " ('USC00519281', 72.0),\n",
       " ('USC00519281', 76.0),\n",
       " ('USC00519281', 68.0),\n",
       " ('USC00519281', 72.0),\n",
       " ('USC00519281', 74.0),\n",
       " ('USC00519281', 70.0),\n",
       " ('USC00519281', 67.0),\n",
       " ('USC00519281', 72.0),\n",
       " ('USC00519281', 60.0),\n",
       " ('USC00519281', 65.0),\n",
       " ('USC00519281', 75.0),\n",
       " ('USC00519281', 70.0),\n",
       " ('USC00519281', 75.0),\n",
       " ('USC00519281', 70.0),\n",
       " ('USC00519281', 79.0),\n",
       " ('USC00519281', 75.0),\n",
       " ('USC00519281', 70.0),\n",
       " ('USC00519281', 67.0),\n",
       " ('USC00519281', 74.0),\n",
       " ('USC00519281', 70.0),\n",
       " ('USC00519281', 75.0),\n",
       " ('USC00519281', 76.0),\n",
       " ('USC00519281', 77.0),\n",
       " ('USC00519281', 74.0),\n",
       " ('USC00519281', 74.0),\n",
       " ('USC00519281', 74.0),\n",
       " ('USC00519281', 69.0),\n",
       " ('USC00519281', 68.0),\n",
       " ('USC00519281', 76.0),\n",
       " ('USC00519281', 74.0),\n",
       " ('USC00519281', 71.0),\n",
       " ('USC00519281', 71.0),\n",
       " ('USC00519281', 74.0),\n",
       " ('USC00519281', 74.0),\n",
       " ('USC00519281', 74.0),\n",
       " ('USC00519281', 74.0),\n",
       " ('USC00519281', 80.0),\n",
       " ('USC00519281', 74.0),\n",
       " ('USC00519281', 72.0),\n",
       " ('USC00519281', 75.0),\n",
       " ('USC00519281', 80.0),\n",
       " ('USC00519281', 76.0),\n",
       " ('USC00519281', 76.0),\n",
       " ('USC00519281', 77.0),\n",
       " ('USC00519281', 75.0),\n",
       " ('USC00519281', 75.0),\n",
       " ('USC00519281', 75.0),\n",
       " ('USC00519281', 75.0),\n",
       " ('USC00519281', 72.0),\n",
       " ('USC00519281', 74.0),\n",
       " ('USC00519281', 74.0),\n",
       " ('USC00519281', 74.0),\n",
       " ('USC00519281', 76.0),\n",
       " ('USC00519281', 74.0),\n",
       " ('USC00519281', 75.0),\n",
       " ('USC00519281', 73.0),\n",
       " ('USC00519281', 79.0),\n",
       " ('USC00519281', 75.0),\n",
       " ('USC00519281', 72.0),\n",
       " ('USC00519281', 72.0),\n",
       " ('USC00519281', 74.0),\n",
       " ('USC00519281', 72.0),\n",
       " ('USC00519281', 72.0),\n",
       " ('USC00519281', 77.0),\n",
       " ('USC00519281', 71.0),\n",
       " ('USC00519281', 73.0),\n",
       " ('USC00519281', 76.0),\n",
       " ('USC00519281', 77.0),\n",
       " ('USC00519281', 76.0),\n",
       " ('USC00519281', 76.0),\n",
       " ('USC00519281', 79.0),\n",
       " ('USC00519281', 81.0),\n",
       " ('USC00519281', 76.0),\n",
       " ('USC00519281', 78.0),\n",
       " ('USC00519281', 77.0),\n",
       " ('USC00519281', 74.0),\n",
       " ('USC00519281', 75.0),\n",
       " ('USC00519281', 78.0),\n",
       " ('USC00519281', 78.0),\n",
       " ('USC00519281', 69.0),\n",
       " ('USC00519281', 72.0),\n",
       " ('USC00519281', 74.0),\n",
       " ('USC00519281', 74.0),\n",
       " ('USC00519281', 76.0),\n",
       " ('USC00519281', 80.0),\n",
       " ('USC00519281', 80.0),\n",
       " ('USC00519281', 76.0),\n",
       " ('USC00519281', 76.0),\n",
       " ('USC00519281', 76.0),\n",
       " ('USC00519281', 77.0),\n",
       " ('USC00519281', 77.0),\n",
       " ('USC00519281', 77.0),\n",
       " ('USC00519281', 82.0),\n",
       " ('USC00519281', 75.0),\n",
       " ('USC00519281', 77.0),\n",
       " ('USC00519281', 75.0),\n",
       " ('USC00519281', 76.0),\n",
       " ('USC00519281', 81.0),\n",
       " ('USC00519281', 82.0),\n",
       " ('USC00519281', 81.0),\n",
       " ('USC00519281', 76.0),\n",
       " ('USC00519281', 77.0),\n",
       " ('USC00519281', 82.0),\n",
       " ('USC00519281', 83.0),\n",
       " ('USC00519281', 77.0),\n",
       " ('USC00519281', 77.0),\n",
       " ('USC00519281', 77.0),\n",
       " ('USC00519281', 76.0),\n",
       " ('USC00519281', 76.0),\n",
       " ('USC00519281', 79.0)]"
      ]
     },
     "execution_count": 22,
     "metadata": {},
     "output_type": "execute_result"
    }
   ],
   "source": [
    "# Using the most active station id\n",
    "# Query to get the start and end date\n",
    "startdt=session.query(measurement.date).order_by(measurement.date.desc()).first()[0]\n",
    "query_startdate=dt.datetime.strptime(startdt,\"%Y-%m-%d\").date()\n",
    "query_enddate=query_startdate-dt.timedelta(days=365)\n",
    "\n",
    "# Query the last 12 months of temperature observation data for this station and plot the results as a histogram\n",
    "tobs_data_station=session.query(measurement.station, measurement.tobs).\\\n",
    "             filter(measurement.date<query_startdate).\\\n",
    "             filter(measurement.date>query_enddate).\\\n",
    "             filter(measurement.station==station_active).order_by(measurement.date).all()\n",
    "tobs_data_station"
   ]
  },
  {
   "cell_type": "code",
   "execution_count": 23,
   "metadata": {},
   "outputs": [
    {
     "data": {
      "text/html": [
       "<div>\n",
       "<style scoped>\n",
       "    .dataframe tbody tr th:only-of-type {\n",
       "        vertical-align: middle;\n",
       "    }\n",
       "\n",
       "    .dataframe tbody tr th {\n",
       "        vertical-align: top;\n",
       "    }\n",
       "\n",
       "    .dataframe thead th {\n",
       "        text-align: right;\n",
       "    }\n",
       "</style>\n",
       "<table border=\"1\" class=\"dataframe\">\n",
       "  <thead>\n",
       "    <tr style=\"text-align: right;\">\n",
       "      <th></th>\n",
       "      <th>Station</th>\n",
       "      <th>tobs</th>\n",
       "    </tr>\n",
       "  </thead>\n",
       "  <tbody>\n",
       "    <tr>\n",
       "      <th>0</th>\n",
       "      <td>USC00519281</td>\n",
       "      <td>77.0</td>\n",
       "    </tr>\n",
       "    <tr>\n",
       "      <th>1</th>\n",
       "      <td>USC00519281</td>\n",
       "      <td>80.0</td>\n",
       "    </tr>\n",
       "    <tr>\n",
       "      <th>2</th>\n",
       "      <td>USC00519281</td>\n",
       "      <td>80.0</td>\n",
       "    </tr>\n",
       "    <tr>\n",
       "      <th>3</th>\n",
       "      <td>USC00519281</td>\n",
       "      <td>75.0</td>\n",
       "    </tr>\n",
       "    <tr>\n",
       "      <th>4</th>\n",
       "      <td>USC00519281</td>\n",
       "      <td>73.0</td>\n",
       "    </tr>\n",
       "    <tr>\n",
       "      <th>...</th>\n",
       "      <td>...</td>\n",
       "      <td>...</td>\n",
       "    </tr>\n",
       "    <tr>\n",
       "      <th>346</th>\n",
       "      <td>USC00519281</td>\n",
       "      <td>77.0</td>\n",
       "    </tr>\n",
       "    <tr>\n",
       "      <th>347</th>\n",
       "      <td>USC00519281</td>\n",
       "      <td>77.0</td>\n",
       "    </tr>\n",
       "    <tr>\n",
       "      <th>348</th>\n",
       "      <td>USC00519281</td>\n",
       "      <td>76.0</td>\n",
       "    </tr>\n",
       "    <tr>\n",
       "      <th>349</th>\n",
       "      <td>USC00519281</td>\n",
       "      <td>76.0</td>\n",
       "    </tr>\n",
       "    <tr>\n",
       "      <th>350</th>\n",
       "      <td>USC00519281</td>\n",
       "      <td>79.0</td>\n",
       "    </tr>\n",
       "  </tbody>\n",
       "</table>\n",
       "<p>351 rows × 2 columns</p>\n",
       "</div>"
      ],
      "text/plain": [
       "         Station  tobs\n",
       "0    USC00519281  77.0\n",
       "1    USC00519281  80.0\n",
       "2    USC00519281  80.0\n",
       "3    USC00519281  75.0\n",
       "4    USC00519281  73.0\n",
       "..           ...   ...\n",
       "346  USC00519281  77.0\n",
       "347  USC00519281  77.0\n",
       "348  USC00519281  76.0\n",
       "349  USC00519281  76.0\n",
       "350  USC00519281  79.0\n",
       "\n",
       "[351 rows x 2 columns]"
      ]
     },
     "execution_count": 23,
     "metadata": {},
     "output_type": "execute_result"
    }
   ],
   "source": [
    "#Create a dataframe for the above query\n",
    "tobs_df=pd.DataFrame(tobs_data_station, columns=[\"Station\", \"tobs\"])\n",
    "tobs_df"
   ]
  },
  {
   "cell_type": "code",
   "execution_count": 24,
   "metadata": {},
   "outputs": [
    {
     "data": {
      "image/png": "[encoded data removed]",
      "text/plain": [
       "<Figure size 432x288 with 1 Axes>"
      ]
     },
     "metadata": {},
     "output_type": "display_data"
    },
    {
     "data": {
      "text/plain": [
       "<Figure size 432x288 with 0 Axes>"
      ]
     },
     "metadata": {},
     "output_type": "display_data"
    }
   ],
   "source": [
    "#plot the histogram for the last 12 months of temperature observation data for this station\n",
    "tobs_df[\"tobs\"].hist(bins=12)\n",
    "plt.title(\"TOBs for USC00519281\")\n",
    "plt.xlabel(\"Temperature\")\n",
    "plt.ylabel(\"Observation Frequency\")\n",
    "#Show and Save the plot\n",
    "plt.show()\n",
    "plt.savefig(\"hist_tobs.png\")"
   ]
  },
  {
   "cell_type": "markdown",
   "metadata": {},
   "source": [
    "# Close session"
   ]
  },
  {
   "cell_type": "code",
   "execution_count": 25,
   "metadata": {},
   "outputs": [],
   "source": [
    "# Close Session\n",
    "session.close()"
   ]
  },
  {
   "cell_type": "code",
   "execution_count": null,
   "metadata": {},
   "outputs": [],
   "source": []
  }
 ],
 "metadata": {
  "anaconda-cloud": {},
  "kernel_info": {
   "name": "python3"
  },
  "kernelspec": {
   "display_name": "PythonData",
   "language": "python",
   "name": "pythondata"
  },
  "language_info": {
   "codemirror_mode": {
    "name": "ipython",
    "version": 3
   },
   "file_extension": ".py",
   "mimetype": "text/x-python",
   "name": "python",
   "nbconvert_exporter": "python",
   "pygments_lexer": "ipython3",
   "version": "3.7.7"
  },
  "nteract": {
   "version": "0.12.3"
  },
  "varInspector": {
   "cols": {
    "lenName": 16,
    "lenType": 16,
    "lenVar": 40
   },
   "kernels_config": {
    "python": {
     "delete_cmd_postfix": "",
     "delete_cmd_prefix": "del ",
     "library": "var_list.py",
     "varRefreshCmd": "print(var_dic_list())"
    },
    "r": {
     "delete_cmd_postfix": ") ",
     "delete_cmd_prefix": "rm(",
     "library": "var_list.r",
     "varRefreshCmd": "cat(var_dic_list()) "
    }
   },
   "types_to_exclude": [
    "module",
    "function",
    "builtin_function_or_method",
    "instance",
    "_Feature"
   ],
   "window_display": false
  }
 },
 "nbformat": 4,
 "nbformat_minor": 2
}
